{
 "cells": [
  {
   "cell_type": "markdown",
   "metadata": {},
   "source": [
    "## Operador ternário\n",
    "- Usar operador ternário quando as alternativas forem pequenas, e quando tiver apenas 2 ou no máximo 3 alternativas.\n",
    "- No exemplo a variável precisa ser inteira"
   ]
  },
  {
   "cell_type": "code",
   "execution_count": 10,
   "metadata": {},
   "outputs": [
    {
     "name": "stdout",
     "output_type": "stream",
     "text": [
      "karython é maior de idade.\n"
     ]
    }
   ],
   "source": [
    "nome = 'karython'\n",
    "idade = 18\n",
    "\n",
    "print(nome, 'é maior de idade.' if idade >= 18 else 'é menor de idade')"
   ]
  },
  {
   "cell_type": "markdown",
   "metadata": {},
   "source": [
    "## Replace\n",
    "- substituir"
   ]
  },
  {
   "cell_type": "code",
   "execution_count": 5,
   "metadata": {},
   "outputs": [
    {
     "name": "stdout",
     "output_type": "stream",
     "text": [
      "<class 'str'>\n",
      "<class 'float'>\n"
     ]
    }
   ],
   "source": [
    "peso = input(\"Digite seu peso: \").replace(',','.')\n",
    "print(type(peso))\n",
    "peso = float(peso)\n",
    "print(type(peso))\n"
   ]
  },
  {
   "cell_type": "markdown",
   "metadata": {},
   "source": [
    "## Desafio 01\n",
    "- Crie um programa para fazer a verificação de um cliente para saber se ele pode usar o brinquedo ou não.\n",
    "    - Para brincar ele precisa:\n",
    "        - ter mais que 12 anos\n",
    "        - ter altura minima de 1,20 mts"
   ]
  },
  {
   "cell_type": "code",
   "execution_count": 18,
   "metadata": {},
   "outputs": [
    {
     "name": "stdout",
     "output_type": "stream",
     "text": [
      "░▒▓░▒▓░▒▓░▒▓░▒▓░▒▓░▒▓░▒▓░▒▓░▒▓░▒▓░▒▓░▒▓░▒▓░▒▓ NICOLÂNDIA PARK CLUB ░▒▓░▒▓░▒▓░▒▓░▒▓░▒▓░▒▓░▒▓░▒▓░▒▓░▒▓░▒▓░▒▓░▒▓░▒▓\n",
      "Agradeçemos a preferência seu insolente, no entanto o senhor não possui as condições necessárias para o embarque!\n",
      "░▒▓░▒▓░▒▓░▒▓░▒▓░▒▓░▒▓░▒▓░▒▓░▒▓░▒▓░▒▓░▒▓░▒▓░▒▓ NICOLÂNDIA PARK CLUB ░▒▓░▒▓░▒▓░▒▓░▒▓░▒▓░▒▓░▒▓░▒▓░▒▓░▒▓░▒▓░▒▓░▒▓░▒▓\n"
     ]
    }
   ],
   "source": [
    "# TODO: Resposta desafio 01\n",
    "\n",
    "\n",
    "print(15*'░▒▓','NICOLÂNDIA PARK CLUB', 15*'░▒▓')\n",
    "\n",
    "nome = input('Digite seu nome seu monstro mestre power:').upper()\n",
    "idade = input('Digite sua idade seu super monstrinho insolente')\n",
    "idade = int(idade)\n",
    "altura = input('Digite a altura da pessoa').replace(',','.')\n",
    "altura = float(altura)\n",
    "if idade >=12 and altura >=1.20:\n",
    "   print(f'O usuário {nome} pode utilizar o brinquedo! Seu insolente!!!! ')\n",
    "else:\n",
    "   print(f'Agradeçemos a preferência seu insolente, no entanto o senhor não possui as condições necessárias para o embarque!')\n",
    "\n",
    "print(15*'░▒▓','NICOLÂNDIA PARK CLUB', 15*'░▒▓')"
   ]
  },
  {
   "cell_type": "markdown",
   "metadata": {},
   "source": [
    "## Desafio 02\n",
    "- Crie um programa que verifica se o aluno poderar ir a praia.\n",
    "    - Para ir a praia ele precisa:\n",
    "        - Verifica se acordei de bom humor\n",
    "        - Verifica se o pai ja chegou em casa para leva-lo"
   ]
  },
  {
   "cell_type": "code",
   "execution_count": 24,
   "metadata": {},
   "outputs": [
    {
     "name": "stdout",
     "output_type": "stream",
     "text": [
      "░░░░░░▒▒▒▒▒▒▓▓▓▓▓▓░░░░░░▒▒▒▒▒▒▓▓▓▓▓▓ SUPER PAPAI COMIGO NA PRAIA ▓▓▓▓▓▓▒▒▒▒▒▒░░░░░░▓▓▓▓▓▓▒▒▒▒▒▒░░░░░░\n"
     ]
    }
   ],
   "source": [
    "# TODO: Resposta desafio 02\n",
    "print (2*'░░░░░░▒▒▒▒▒▒▓▓▓▓▓▓','SUPER PAPAI COMIGO NA PRAIA',2*'▓▓▓▓▓▓▒▒▒▒▒▒░░░░░░')\n",
    "\n",
    "aluno = input ('Insira o nome do aluno:').upper()\n",
    "humor = input ('Você acordou de bom humor').upper\n",
    "\n",
    "\n",
    "print (2*'░░░░░░▒▒▒▒▒▒▓▓▓▓▓▓','SUPER PAPAI COMIGO NA PRAIA',2*'▓▓▓▓▓▓▒▒▒▒▒▒░░░░░░')"
   ]
  },
  {
   "cell_type": "markdown",
   "metadata": {},
   "source": [
    "## Desafio 03\n",
    "- Crie um programa que modifique o cpf digitado\n",
    "    - pegue um cpf qualquer com todos os digitos:\n",
    "        - remova os caracteres\n",
    "        - imprima o cpf sem modificação\n",
    "        - imprima o cpf com modificação"
   ]
  },
  {
   "cell_type": "code",
   "execution_count": null,
   "metadata": {},
   "outputs": [],
   "source": [
    "# TODO: Resposta desafio 03\n"
   ]
  },
  {
   "cell_type": "markdown",
   "metadata": {},
   "source": [
    "## Desafio 04\n",
    "- Crie uma calculadora de IMC\n",
    "    - Imprima as seguintes condições:?\n",
    "        - imc <17: está com anorexia.\n",
    "        - imc <18.5: está abaixo do peso\n",
    "        - imc <25: está no peso ideal.\n",
    "        - imc <30: está acima do peso.\n",
    "        - imc <35: está com grau de obesidade I.\n",
    "        - imc <40: está com grau de obesidade II.\n",
    "        - imc: está com grau de obesidade mórbida."
   ]
  },
  {
   "cell_type": "code",
   "execution_count": 2,
   "metadata": {},
   "outputs": [],
   "source": [
    "# TODO: Resposta desafio 04\n"
   ]
  },
  {
   "cell_type": "markdown",
   "metadata": {},
   "source": [
    "## Desafio 05\n",
    "- Crie uma calculadora basica.\n",
    "    - Solicite 2 números do usuário e pergunte qual operação matemática ele deseja fazer.\n",
    "        -   +; -; /; *\n",
    "        - imprima o resultado correto para cada operação"
   ]
  },
  {
   "cell_type": "code",
   "execution_count": null,
   "metadata": {},
   "outputs": [],
   "source": [
    "# TODO: Resposta desafio 05"
   ]
  }
 ],
 "metadata": {
  "kernelspec": {
   "display_name": "Python 3",
   "language": "python",
   "name": "python3"
  },
  "language_info": {
   "codemirror_mode": {
    "name": "ipython",
    "version": 3
   },
   "file_extension": ".py",
   "mimetype": "text/x-python",
   "name": "python",
   "nbconvert_exporter": "python",
   "pygments_lexer": "ipython3",
   "version": "3.12.4"
  }
 },
 "nbformat": 4,
 "nbformat_minor": 2
}
